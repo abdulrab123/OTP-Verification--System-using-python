{
  "nbformat": 4,
  "nbformat_minor": 0,
  "metadata": {
    "colab": {
      "provenance": []
    },
    "kernelspec": {
      "name": "python3",
      "display_name": "Python 3"
    },
    "language_info": {
      "name": "python"
    }
  },
  "cells": [
    {
      "cell_type": "code",
      "execution_count": null,
      "metadata": {
        "id": "6qYZ_TJ1rXIw"
      },
      "outputs": [],
      "source": []
    },
    {
      "cell_type": "markdown",
      "source": [
        "**Steps to create an OTP Verification System using Python**\n",
        "\n",
        "\n",
        "*  Implement a function to generate a 6-digit OTP randomly.\n",
        "*  Develop a function to simulate sending the OTP to the user's email address.\n",
        "*  Create a function to prompt the user to enter the OTP received in their   \n",
        "   email.\n",
        "*  Implement a function to verify if the entered OTP matches the generated OTP.\n",
        "*  Ensure proper error handling and user-friendly prompts throughout the system.\n",
        "*  Allow the user to retry OTP entry in case of incorrect input."
      ],
      "metadata": {
        "id": "zUIdiPRWsJKN"
      }
    },
    {
      "cell_type": "code",
      "source": [
        "import os\n",
        "import math\n",
        "import random\n",
        "import smtplib\n",
        "\n",
        "digits = \"0123456789\"\n",
        "OTP = \"\"\n",
        "for i in range(6):\n",
        "  OTP+= digits[math.floor(random.random()*10)]\n",
        "otp = OTP + \" is your OTP\"\n",
        "msg = otp\n",
        "s = smtplib.SMTP('smtp.gmail.com',587)\n",
        "s.starttls()\n",
        "emailid = input(\"Please Enter Your Email: \")\n",
        "s.login(\"rababdul8@gmail.com\",\"oyqz avyj xusj uycm\")\n",
        "s.sendmail('&&&&&&&&&&&', emailid, msg)\n",
        "a = input(\"Please Enter Your OTP >>: \")\n",
        "if a == OTP:\n",
        "  print(\"Yes, Your OTP is Verified\")\n",
        "else:\n",
        "  print(\"Please check your OTP Again\")"
      ],
      "metadata": {
        "colab": {
          "base_uri": "https://localhost:8080/"
        },
        "id": "nN6lUYpRFHrq",
        "outputId": "6b7bcd91-d95d-464b-db49-9f3a60d4c21a"
      },
      "execution_count": 3,
      "outputs": [
        {
          "output_type": "stream",
          "name": "stdout",
          "text": [
            "Please Enter Your Email: rababdul8@gmail.com\n",
            "Please Enter Your OTP >>: 295031\n",
            "Yes, Your OTP is Verified\n"
          ]
        }
      ]
    },
    {
      "cell_type": "code",
      "source": [],
      "metadata": {
        "id": "ekmuETe4EkLo"
      },
      "execution_count": 3,
      "outputs": []
    }
  ]
}